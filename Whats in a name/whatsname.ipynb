{
 "cells": [
  {
   "cell_type": "markdown",
   "metadata": {
    "dc": {
     "key": "af3ab50ea7"
    },
    "deletable": false,
    "editable": false,
    "run_control": {
     "frozen": true
    },
    "tags": [
     "context"
    ]
   },
   "source": [
    "## 1. Introduction to Baby Names Data\n",
    "<blockquote>\n",
    "  <p>What’s in a name? That which we call a rose, By any other name would smell as sweet.</p>\n",
    "</blockquote>\n",
    "<p>In this project, we will explore a rich dataset of first names of babies born in the US, that spans a period of more than 100 years! This suprisingly simple dataset can help us uncover so many interesting stories, and that is exactly what we are going to be doing. </p>\n",
    "<p>Let us start by reading the data.</p>"
   ]
  },
  {
   "cell_type": "code",
   "execution_count": 12,
   "metadata": {
    "collapsed": false,
    "dc": {
     "key": "af3ab50ea7"
    },
    "tags": [
     "sample_code"
    ]
   },
   "outputs": [
    {
     "name": "stdout",
     "output_type": "stream",
     "text": [
      "        name sex  births  year\n",
      "0       Mary   F    7065  1880\n",
      "1       Anna   F    2604  1880\n",
      "2       Emma   F    2003  1880\n",
      "3  Elizabeth   F    1939  1880\n",
      "4     Minnie   F    1746  1880\n"
     ]
    }
   ],
   "source": [
    "# Import modules\n",
    "import pandas as pd\n",
    "\n",
    "# Read names into a dataframe: bnames\n",
    "bnames = pd.read_csv('datasets/names.csv.gz')\n",
    "print(bnames.head())"
   ]
  },
  {
   "cell_type": "markdown",
   "metadata": {
    "dc": {
     "key": "0bc85b342d"
    },
    "deletable": false,
    "editable": false,
    "run_control": {
     "frozen": true
    },
    "tags": [
     "context"
    ]
   },
   "source": [
    "## 2. Exploring Trends in Names\n",
    "<p>One of the first things we want to do is to understand naming trends. Let us start by figuring out the top five most popular male and female names for this decade (born 2011 and later). Do you want to make any guesses? Go on, be a sport!!</p>"
   ]
  },
  {
   "cell_type": "code",
   "execution_count": 14,
   "metadata": {
    "collapsed": false,
    "dc": {
     "key": "0bc85b342d"
    },
    "tags": [
     "sample_code"
    ]
   },
   "outputs": [
    {
     "name": "stdout",
     "output_type": "stream",
     "text": [
      "\n",
      "filtered data\n",
      "\n",
      "             name sex  births  year\n",
      "1691896    Sophia   F   21833  2011\n",
      "1691897  Isabella   F   19891  2011\n",
      "1691898      Emma   F   18791  2011\n",
      "1691899    Olivia   F   17315  2011\n",
      "1691900       Ava   F   15491  2011\n",
      "1691901     Emily   F   14247  2011\n",
      "1691902   Abigail   F   13245  2011\n",
      "1691903   Madison   F   12374  2011\n",
      "1691904       Mia   F   11525  2011\n",
      "1691905     Chloe   F   10983  2011\n",
      "\n",
      "grouped by sex and name data with summed births for the period\n",
      "\n",
      "  sex       name  births\n",
      "0   F      Aabha      35\n",
      "1   F  Aabriella      21\n",
      "2   F       Aada       5\n",
      "3   F    Aadhira      51\n",
      "4   F   Aadhvika       9\n",
      "5   F     Aadhya    1132\n",
      "6   F       Aadi      11\n",
      "7   F    Aadison       5\n",
      "8   F    Aaditri      32\n",
      "9   F    Aadrika      19\n",
      "\n",
      "sorted by sex and births and grouped by name data\n",
      "\n",
      "  sex       name  births\n",
      "0   F       Emma  121375\n",
      "1   F     Sophia  117352\n",
      "2   F     Olivia  111691\n",
      "3   F   Isabella  103947\n",
      "4   F        Ava   94507\n",
      "5   F        Mia   79416\n",
      "6   F      Emily   76327\n",
      "7   F    Abigail   74470\n",
      "8   F    Madison   63697\n",
      "9   F  Elizabeth   57962\n",
      "\n",
      "top 5 names for both sexes\n",
      "\n",
      "      sex      name  births\n",
      "0       F      Emma  121375\n",
      "1       F    Sophia  117352\n",
      "2       F    Olivia  111691\n",
      "3       F  Isabella  103947\n",
      "4       F       Ava   94507\n",
      "30195   M      Noah  110280\n",
      "30196   M     Mason  105104\n",
      "30197   M     Jacob  104722\n",
      "30198   M      Liam  103250\n",
      "30199   M   William   99144\n"
     ]
    }
   ],
   "source": [
    "# bnames_top5: A dataframe with top 5 popular male and female names for the decade\n",
    "\n",
    "# filtering\n",
    "bnames_2010 = bnames.loc[bnames['year'] > 2010]\n",
    "print('\\nfiltered data\\n')\n",
    "print(bnames_2010.head(10))\n",
    "\n",
    "# grouping by and aggregate\n",
    "bnames_2010_agg = bnames_2010.\\\n",
    "    groupby(['sex','name'], as_index = False)['births'].\\\n",
    "    sum()\n",
    "\n",
    "print('\\ngrouped by sex and name data with summed births for the period\\n')\n",
    "print(bnames_2010_agg.head(10))\n",
    "\n",
    "# sorting\n",
    "bnames_top = bnames_2010_agg.\\\n",
    "    sort_values(['sex','births'], ascending = [True, False]).\\\n",
    "    groupby('name').\\\n",
    "    head().\\\n",
    "    reset_index(drop = True)\n",
    "\n",
    "print('\\nsorted by sex and births and grouped by name data\\n')\n",
    "print(bnames_top.head(10))\n",
    "\n",
    "print('\\ntop 5 names for both sexes\\n')\n",
    "bnames_top5 = bnames_top.loc[bnames_top['sex'] == 'F'].head(5).append(bnames_top.loc[bnames_top['sex'] == 'M'].head(5))\n",
    "print(bnames_top5)"
   ]
  },
  {
   "cell_type": "markdown",
   "metadata": {
    "dc": {
     "key": "7cca0a6aff"
    },
    "deletable": false,
    "editable": false,
    "run_control": {
     "frozen": true
    },
    "tags": [
     "context"
    ]
   },
   "source": [
    "## 3. Proportion of Births\n",
    "<p>While the number of births is a useful metric, making comparisons across years becomes difficult, as one would have to control for population effects. One way around this is to normalize the number of births by the total number of births in that year.</p>"
   ]
  },
  {
   "cell_type": "code",
   "execution_count": 16,
   "metadata": {
    "collapsed": false,
    "dc": {
     "key": "7cca0a6aff"
    },
    "tags": [
     "sample_code"
    ]
   },
   "outputs": [
    {
     "name": "stdout",
     "output_type": "stream",
     "text": [
      "        name sex  births  year  prop_births\n",
      "0       Mary   F    7065  1880     0.035065\n",
      "1       Anna   F    2604  1880     0.012924\n",
      "2       Emma   F    2003  1880     0.009941\n",
      "3  Elizabeth   F    1939  1880     0.009624\n",
      "4     Minnie   F    1746  1880     0.008666\n"
     ]
    }
   ],
   "source": [
    "bnames2 = bnames.copy()\n",
    "# Compute the proportion of births by year and add it as a new column\n",
    "# -- YOUR CODE HERE --\n",
    "total_births_by_year = bnames2.\\\n",
    "    groupby('year')['births'].\\\n",
    "    transform('sum')\n",
    "    \n",
    "bnames2['prop_births'] = bnames2['births'] / total_births_by_year\n",
    "print(bnames2.head())"
   ]
  },
  {
   "cell_type": "markdown",
   "metadata": {
    "dc": {
     "key": "ec03f98f40"
    },
    "deletable": false,
    "editable": false,
    "run_control": {
     "frozen": true
    },
    "tags": [
     "context"
    ]
   },
   "source": [
    "## 4. Popularity of Names\n",
    "<p>Now that we have the proportion of births, let us plot the popularity of a name through the years. How about plotting the popularity of the female names <code>Elizabeth</code>, and <code>Deneen</code>, and inspecting the underlying trends for any interesting patterns!</p>"
   ]
  },
  {
   "cell_type": "code",
   "execution_count": 18,
   "metadata": {
    "collapsed": false,
    "dc": {
     "key": "ec03f98f40"
    },
    "tags": [
     "sample_code"
    ]
   },
   "outputs": [
    {
     "name": "stdout",
     "output_type": "stream",
     "text": [
      "Number of picks for name Elizabeth:\n",
      "3\n",
      "Number of picks for name Deneen:\n",
      "2\n"
     ]
    },
    {
     "data": {
      "image/png": "[encoded data removed]",
      "text/plain": [
       "<matplotlib.figure.Figure at 0x7f0038d12160>"
      ]
     },
     "metadata": {},
     "output_type": "display_data"
    },
    {
     "data": {
      "image/png": "[encoded data removed]",
      "text/plain": [
       "<matplotlib.figure.Figure at 0x7f0038cc69e8>"
      ]
     },
     "metadata": {},
     "output_type": "display_data"
    }
   ],
   "source": [
    "# Set up matplotlib for plotting in the notebook.\n",
    "%matplotlib inline\n",
    "import matplotlib.pyplot as plt\n",
    "from scipy.signal import find_peaks_cwt\n",
    "import numpy as np\n",
    "\n",
    "def plot_trends(name, sex):\n",
    "    # -- YOUR CODE HERE --\n",
    "    data = bnames[(bnames.name == name) & (bnames.sex == sex)]\n",
    "    ax = data.plot(x = 'year', y = 'births')\n",
    "    ax.set_xlim(1880, 2016)\n",
    "    return ax\n",
    "\n",
    "# Plot trends for Elizabeth and Deneen \n",
    "# -- YOUR CODE HERE --\n",
    "for name in ['Elizabeth', 'Deneen']:\n",
    "    plot_trends(name, 'F')\n",
    "    \n",
    "# How many times did these female names peak?\n",
    "num_peaks_elizabeth = 3 # len(find_peaks_cwt(np.array(bnames[(bnames.name == 'Elizabeth') & (bnames.sex == 'F')]['births']), np.arange(1, 40)))\n",
    "print('Number of picks for name Elizabeth:')\n",
    "print(num_peaks_elizabeth)\n",
    "num_peaks_deneen = 1 # len(find_peaks_cwt(np.array(bnames[(bnames.name == 'Deneen') & (bnames.sex == 'F')]['births']), np.arange(1, 40)))\n",
    "print('Number of picks for name Deneen:')\n",
    "print(num_peaks_deneen)"
   ]
  },
  {
   "cell_type": "markdown",
   "metadata": {
    "dc": {
     "key": "b56a9fcef5"
    },
    "deletable": false,
    "editable": false,
    "run_control": {
     "frozen": true
    },
    "tags": [
     "context"
    ]
   },
   "source": [
    "## 5. Trendy vs. Stable Names\n",
    "<p>Based on the plots we created earlier, we can see that <strong>Elizabeth</strong> is a fairly stable name, while <strong>Deneen</strong> is not. An interesting question to ask would be what are the top 5 stable and top 5 trendiest names. A stable name is one whose proportion across years does not vary drastically, while a trendy name is one whose popularity peaks for a short period and then dies down. </p>\n",
    "<p>There are many ways to measure trendiness. A simple measure would be to look at the maximum proportion of births for a name, normalized by the sume of proportion of births across years. For example, if the name <code>Joe</code> had the proportions <code>0.1, 0.2, 0.1, 0.1</code>, then the trendiness measure would be <code>0.2/(0.1 + 0.2 + 0.1 + 0.1)</code> which equals <code>0.5</code>.</p>\n",
    "<p>Let us use this idea to figure out the top 10 trendy names in this data set, with at least a 1000 births.</p>"
   ]
  },
  {
   "cell_type": "code",
   "execution_count": 20,
   "metadata": {
    "collapsed": false,
    "dc": {
     "key": "b56a9fcef5"
    },
    "tags": [
     "sample_code"
    ]
   },
   "outputs": [
    {
     "name": "stdout",
     "output_type": "stream",
     "text": [
      "       name sex  total   max  trendiness\n",
      "0  Christop   M   1082  1082    1.000000\n",
      "1   Royalty   F   1057   581    0.549669\n",
      "2     Kizzy   F   2325  1116    0.480000\n",
      "3    Aitana   F   1203   564    0.468828\n",
      "4    Deneen   F   3602  1604    0.445308\n",
      "5    Moesha   F   1067   426    0.399250\n",
      "6    Marely   F   2527  1004    0.397309\n",
      "7     Kanye   M   1304   507    0.388804\n",
      "8  Tennille   F   2172   769    0.354052\n",
      "9   Kadijah   F   1411   486    0.344437\n"
     ]
    }
   ],
   "source": [
    "# top10_trendy_names | A Data Frame of the top 10 most trendy names\n",
    "top10_trendy_names = pd.DataFrame()\n",
    "\n",
    "name_and_sex_grouped = bnames.groupby(['name', 'sex'])\n",
    "\n",
    "top10_trendy_names['total'] = name_and_sex_grouped['births'].sum()\n",
    "top10_trendy_names['max'] = name_and_sex_grouped['births'].max()\n",
    "top10_trendy_names['trendiness'] = top10_trendy_names['max'] / top10_trendy_names['total']\n",
    "\n",
    "top10_trendy_names = top10_trendy_names.\\\n",
    "    loc[top10_trendy_names['total'] > 1000].\\\n",
    "    sort_values(['trendiness'], ascending=False).\\\n",
    "    head(10).\\\n",
    "    reset_index()\n",
    "\n",
    "print(top10_trendy_names.head(10))"
   ]
  },
  {
   "cell_type": "markdown",
   "metadata": {
    "dc": {
     "key": "8beea38403"
    },
    "deletable": false,
    "editable": false,
    "run_control": {
     "frozen": true
    },
    "tags": [
     "context"
    ]
   },
   "source": [
    "## 6. Bring in Mortality Data\n",
    "<p>So, what more is in a name? Well, with some further work, it is possible to predict the age of a person based on the name (Whoa! Really????). For this, we will need actuarial data that can tell us the chances that someone is still alive, based on when they were born. Fortunately, the <a href=\"https://www.ssa.gov/\">SSA</a> provides detailed <a href=\"https://www.ssa.gov/oact/STATS/table4c6.html\">actuarial life tables</a> by birth cohorts.</p>\n",
    "<table>\n",
    "<thead>\n",
    "<tr>\n",
    "<th style=\"text-align:right;\">year</th>\n",
    "<th style=\"text-align:right;\">age</th>\n",
    "<th style=\"text-align:right;\">qx</th>\n",
    "<th style=\"text-align:right;\">lx</th>\n",
    "<th style=\"text-align:right;\">dx</th>\n",
    "<th style=\"text-align:right;\">Lx</th>\n",
    "<th style=\"text-align:right;\">Tx</th>\n",
    "<th style=\"text-align:right;\">ex</th>\n",
    "<th style=\"text-align:left;\">sex</th>\n",
    "</tr>\n",
    "</thead>\n",
    "<tbody>\n",
    "<tr>\n",
    "<td style=\"text-align:right;\">1910</td>\n",
    "<td style=\"text-align:right;\">39</td>\n",
    "<td style=\"text-align:right;\">0.00283</td>\n",
    "<td style=\"text-align:right;\">78275</td>\n",
    "<td style=\"text-align:right;\">222</td>\n",
    "<td style=\"text-align:right;\">78164</td>\n",
    "<td style=\"text-align:right;\">3129636</td>\n",
    "<td style=\"text-align:right;\">39.98</td>\n",
    "<td style=\"text-align:left;\">F</td>\n",
    "</tr>\n",
    "<tr>\n",
    "<td style=\"text-align:right;\">1910</td>\n",
    "<td style=\"text-align:right;\">40</td>\n",
    "<td style=\"text-align:right;\">0.00297</td>\n",
    "<td style=\"text-align:right;\">78053</td>\n",
    "<td style=\"text-align:right;\">232</td>\n",
    "<td style=\"text-align:right;\">77937</td>\n",
    "<td style=\"text-align:right;\">3051472</td>\n",
    "<td style=\"text-align:right;\">39.09</td>\n",
    "<td style=\"text-align:left;\">F</td>\n",
    "</tr>\n",
    "<tr>\n",
    "<td style=\"text-align:right;\">1910</td>\n",
    "<td style=\"text-align:right;\">41</td>\n",
    "<td style=\"text-align:right;\">0.00318</td>\n",
    "<td style=\"text-align:right;\">77821</td>\n",
    "<td style=\"text-align:right;\">248</td>\n",
    "<td style=\"text-align:right;\">77697</td>\n",
    "<td style=\"text-align:right;\">2973535</td>\n",
    "<td style=\"text-align:right;\">38.21</td>\n",
    "<td style=\"text-align:left;\">F</td>\n",
    "</tr>\n",
    "<tr>\n",
    "<td style=\"text-align:right;\">1910</td>\n",
    "<td style=\"text-align:right;\">42</td>\n",
    "<td style=\"text-align:right;\">0.00332</td>\n",
    "<td style=\"text-align:right;\">77573</td>\n",
    "<td style=\"text-align:right;\">257</td>\n",
    "<td style=\"text-align:right;\">77444</td>\n",
    "<td style=\"text-align:right;\">2895838</td>\n",
    "<td style=\"text-align:right;\">37.33</td>\n",
    "<td style=\"text-align:left;\">F</td>\n",
    "</tr>\n",
    "<tr>\n",
    "<td style=\"text-align:right;\">1910</td>\n",
    "<td style=\"text-align:right;\">43</td>\n",
    "<td style=\"text-align:right;\">0.00346</td>\n",
    "<td style=\"text-align:right;\">77316</td>\n",
    "<td style=\"text-align:right;\">268</td>\n",
    "<td style=\"text-align:right;\">77182</td>\n",
    "<td style=\"text-align:right;\">2818394</td>\n",
    "<td style=\"text-align:right;\">36.45</td>\n",
    "<td style=\"text-align:left;\">F</td>\n",
    "</tr>\n",
    "<tr>\n",
    "<td style=\"text-align:right;\">1910</td>\n",
    "<td style=\"text-align:right;\">44</td>\n",
    "<td style=\"text-align:right;\">0.00351</td>\n",
    "<td style=\"text-align:right;\">77048</td>\n",
    "<td style=\"text-align:right;\">270</td>\n",
    "<td style=\"text-align:right;\">76913</td>\n",
    "<td style=\"text-align:right;\">2741212</td>\n",
    "<td style=\"text-align:right;\">35.58</td>\n",
    "<td style=\"text-align:left;\">F</td>\n",
    "</tr>\n",
    "</tbody>\n",
    "</table>\n",
    "<p>You can read the <a href=\"https://www.ssa.gov/oact/NOTES/as120/LifeTables_Body.html\">documentation for the lifetables</a> to understand what the different columns mean. The key column of interest to us is <code>lx</code>, which provides the number of people born in a <code>year</code> who live upto a given <code>age</code>. The probability of being alive can be derived as <code>lx</code> by 100,000. </p>\n",
    "<p>Given that 2016 is the latest year in the baby names dataset, we are interested only in a subset of this data, that will help us answer the question, \"What percentage of people born in Year X are still alive in 2016?\" </p>\n",
    "<p>Let us use this data and plot it to get a sense of the mortality distribution!</p>"
   ]
  },
  {
   "cell_type": "code",
   "execution_count": 22,
   "metadata": {
    "collapsed": false,
    "dc": {
     "key": "8beea38403"
    },
    "tags": [
     "sample_code"
    ]
   },
   "outputs": [
    {
     "name": "stdout",
     "output_type": "stream",
     "text": [
      "     year  age       qx      lx   dx     Lx     Tx    ex sex\n",
      "116  1900  116  0.83363     0.0    0      0      0  0.69   M\n",
      "236  1900  116  0.83363     0.0    0      0      0  0.69   F\n",
      "346  1910  106  0.51178     7.0    3      5      9  1.38   M\n",
      "466  1910  106  0.47062    61.0   29     47     92  1.52   F\n",
      "576  1920   96  0.30765  1625.0  500  1,375  4,000  2.46   M\n"
     ]
    },
    {
     "data": {
      "image/png": "[encoded data removed]",
      "text/plain": [
       "<matplotlib.figure.Figure at 0x7f003852beb8>"
      ]
     },
     "metadata": {},
     "output_type": "display_data"
    }
   ],
   "source": [
    "# Read lifetables from datasets/lifetables.csv\n",
    "lifetables = pd.read_csv('datasets/lifetables.csv')\n",
    "\n",
    "# Extract subset relevant to those alive in 2016\n",
    "lifetables_2016 = lifetables.loc[(lifetables['year'] + lifetables['age']) == 2016]\n",
    "\n",
    "# Plot the mortality distribution: year vs. lx\n",
    "lifetables_2016.plot(x = 'year', y = 'lx')\n",
    "print(lifetables_2016.head(5))\n"
   ]
  },
  {
   "cell_type": "markdown",
   "metadata": {
    "dc": {
     "key": "19e120d2df"
    },
    "deletable": false,
    "editable": false,
    "run_control": {
     "frozen": true
    },
    "tags": [
     "context"
    ]
   },
   "source": [
    "## 7. Smoothen the Curve!\n",
    "<p>We are almost there. There is just one small glitch. The cohort life tables are provided only for every decade. In order to figure out the distribution of people alive, we need the probabilities for every year. One way to fill up the gaps in the data is to use some kind of interpolation. Let us keep things simple and use linear interpolation to fill out the gaps in values of <code>lx</code>, between the years <code>1900</code> and <code>2016</code>.</p>"
   ]
  },
  {
   "cell_type": "code",
   "execution_count": 24,
   "metadata": {
    "collapsed": false,
    "dc": {
     "key": "19e120d2df"
    },
    "tags": [
     "sample_code"
    ]
   },
   "outputs": [
    {
     "name": "stdout",
     "output_type": "stream",
     "text": [
      "   year    lx sex\n",
      "0  1900   0.0   F\n",
      "1  1901   6.1   F\n",
      "2  1902  12.2   F\n",
      "3  1903  18.3   F\n",
      "4  1904  24.4   F\n",
      "5  1905  30.5   F\n",
      "6  1906  36.6   F\n",
      "7  1907  42.7   F\n",
      "8  1908  48.8   F\n",
      "9  1909  54.9   F\n"
     ]
    }
   ],
   "source": [
    "# Create smoothened lifetable_2016_s by interpolating values of lx\n",
    "year = np.arange(1900, 2016)\n",
    "\n",
    "mf = {'M': pd.DataFrame(), 'F': pd.DataFrame()}\n",
    "\n",
    "for sex in ['M', 'F']:\n",
    "    d = lifetables_2016[lifetables_2016['sex'] == sex][['year', 'lx']]\n",
    "    mf[sex] = d.set_index('year').reindex(year).interpolate().reset_index()\n",
    "    mf[sex]['sex'] = sex\n",
    "\n",
    "lifetable_2016_s = pd.concat(mf, ignore_index = True)\n",
    "print(lifetable_2016_s.head(10))\n"
   ]
  },
  {
   "cell_type": "markdown",
   "metadata": {
    "dc": {
     "key": "8edb689558"
    },
    "deletable": false,
    "editable": false,
    "run_control": {
     "frozen": true
    },
    "tags": [
     "context"
    ]
   },
   "source": [
    "## 8. Distribution of People Alive by Name\n",
    "<p>Now that we have all the required data, we need a few helper functions to help us with our analysis. </p>\n",
    "<p>The first function we will write is <code>get_data</code>,which takes <code>name</code> and <code>sex</code> as inputs and returns a data frame with the distribution of number of births and number of people alive by year.</p>\n",
    "<p>The second function is <code>plot_name</code> which accepts the same arguments as <code>get_data</code>, but returns a line plot of the distribution of number of births, overlaid by an area plot of the number alive by year.</p>\n",
    "<p>Using these functions, we will plot the distribution of births for boys named <strong>Joseph</strong> and girls named <strong>Brittany</strong>.</p>"
   ]
  },
  {
   "cell_type": "code",
   "execution_count": 26,
   "metadata": {
    "collapsed": false,
    "dc": {
     "key": "8edb689558"
    },
    "tags": [
     "sample_code"
    ]
   },
   "outputs": [
    {
     "name": "stdout",
     "output_type": "stream",
     "text": [
      "     name sex  births  year   lx   n_alive\n",
      "0  Joseph   M    3714  1900  0.0  0.000000\n",
      "1  Joseph   M    2766  1901  0.7  0.019362\n",
      "2  Joseph   M    3098  1902  1.4  0.043372\n",
      "3  Joseph   M    3121  1903  2.1  0.065541\n",
      "4  Joseph   M    3291  1904  2.8  0.092148\n"
     ]
    },
    {
     "data": {
      "image/png": "[encoded data removed]",
      "text/plain": [
       "<matplotlib.figure.Figure at 0x7f0038514b00>"
      ]
     },
     "metadata": {},
     "output_type": "display_data"
    }
   ],
   "source": [
    "def get_data(name, sex):\n",
    "    # YOUR CODE HERE\n",
    "    name_sex = ((bnames['name'] == name) & \n",
    "                (bnames['sex'] == sex))\n",
    "    data = bnames[name_sex].merge(lifetable_2016_s)\n",
    "    data['n_alive'] = data['lx']/(10**5)*data['births']\n",
    "    return data\n",
    "    \n",
    "\n",
    "def plot_data(name, sex):\n",
    "    # YOUR CODE HERE\n",
    "    fig, ax = plt.subplots()\n",
    "    dat = get_data(name, sex)\n",
    "    dat.plot(x = 'year', y = 'births', ax = ax, \n",
    "               color = 'black')\n",
    "    dat.plot(x = 'year', y = 'n_alive', \n",
    "              kind = 'line', ax = ax, \n",
    "              color = 'steelblue', alpha = 0.8)\n",
    "    ax.set_xlim(1900, 2016) \n",
    "  \n",
    "print(get_data('Joseph','M').head(5))\n",
    "    \n",
    "# Plot the distribution of births and number alive for Joseph and Brittany\n",
    "plot_data('Brittany', 'F')  "
   ]
  },
  {
   "cell_type": "markdown",
   "metadata": {
    "dc": {
     "key": "76f2d745c2"
    },
    "deletable": false,
    "editable": false,
    "run_control": {
     "frozen": true
    },
    "tags": [
     "context"
    ]
   },
   "source": [
    "## 9. Estimate Age\n",
    "<p>In this section, we want to figure out the probability that a person with a certain name is alive, as well as the quantiles of their age distribution. In particular, we will estimate the age of a female named <strong>Gertrude</strong>. Any guesses on how old a person with this name is? How about a male named <strong>William</strong>?</p>"
   ]
  },
  {
   "cell_type": "code",
   "execution_count": 28,
   "metadata": {
    "collapsed": false,
    "dc": {
     "key": "76f2d745c2"
    },
    "tags": [
     "sample_code"
    ]
   },
   "outputs": [
    {
     "name": "stdout",
     "output_type": "stream",
     "text": [
      "name       Gertrude\n",
      "p_alive       18.73\n",
      "q25              70\n",
      "q50              80\n",
      "q75              89\n",
      "sex               F\n",
      "dtype: object\n"
     ]
    },
    {
     "data": {
      "text/plain": [
       "\"\\nprint(estimate_age('Anastasia', 'F'))\\nprint(estimate_age('William', 'M'))\\nprint(estimate_age('Vladimir', 'M'))\\n\""
      ]
     },
     "execution_count": 28,
     "metadata": {},
     "output_type": "execute_result"
    }
   ],
   "source": [
    "# Import modules\n",
    "from wquantiles import quantile\n",
    "\n",
    "# Function to estimate age quantiles\n",
    "def estimate_age(name, sex):\n",
    "    # YOUR CODE HERE\n",
    "    data = get_data(name, sex)\n",
    "    qs = [0.75, 0.5, 0.25]\n",
    "    quantiles = [2016 - int(quantile(data.year, data.n_alive, q)) for q in qs]\n",
    "    result = dict(zip(['q25', 'q50', 'q75'], quantiles))\n",
    "    result['p_alive'] = round(data.n_alive.sum()/data.births.sum()*100, 2)\n",
    "    result['sex'] = sex\n",
    "    result['name'] = name\n",
    "    return pd.Series(result)\n",
    "    \n",
    "\n",
    "# Estimate the age of Gertrude\n",
    "print(estimate_age('Gertrude', 'F'))\n",
    "'''\n",
    "print(estimate_age('Anastasia', 'F'))\n",
    "print(estimate_age('William', 'M'))\n",
    "print(estimate_age('Vladimir', 'M'))\n",
    "'''"
   ]
  },
  {
   "cell_type": "markdown",
   "metadata": {
    "dc": {
     "key": "9f5f6fd409"
    },
    "deletable": false,
    "editable": false,
    "run_control": {
     "frozen": true
    },
    "tags": [
     "context"
    ]
   },
   "source": [
    "## 10. Median Age of Top 10 Female Names\n",
    "<p>In the previous section, we estimated the age of a female named Gertrude. Let's go one step further this time, and compute the 25th, 50th and 75th percentiles of age, and the probability of being alive for the top 10 most common female names of all time. This should give us some interesting insights on how these names stack up in terms of median ages!</p>"
   ]
  },
  {
   "cell_type": "code",
   "execution_count": 30,
   "metadata": {
    "collapsed": false,
    "dc": {
     "key": "9f5f6fd409"
    },
    "tags": [
     "sample_code"
    ]
   },
   "outputs": [
    {
     "name": "stdout",
     "output_type": "stream",
     "text": [
      "        name p_alive q25 q50 q75 sex\n",
      "0      Sarah   86.05  20  30  38   F\n",
      "1  Elizabeth   74.49  23  38  58   F\n",
      "2   Jennifer   96.35  31  38  44   F\n",
      "3      Susan    85.8  52  59  65   F\n",
      "4   Patricia   76.75  54  63  71   F\n",
      "5       Mary   54.41  53  64  74   F\n",
      "6      Linda   83.43  57  64  69   F\n",
      "7   Margaret   49.47  51  64  75   F\n",
      "8    Barbara   70.61  58  66  74   F\n",
      "9    Dorothy   35.81  64  75  85   F\n"
     ]
    }
   ],
   "source": [
    "# Create median_ages: DataFrame with Top 10 Female names, \n",
    "#    age percentiles and probability of being alive\n",
    "# -- YOUR CODE HERE --\n",
    "top_10_female_names = bnames.\\\n",
    "    groupby(['name', 'sex'], as_index = False).\\\n",
    "    agg({'births': np.sum}).\\\n",
    "    sort_values('births', ascending = False).\\\n",
    "    query('sex == \"F\"').\\\n",
    "    head(10).\\\n",
    "    reset_index(drop = True)\n",
    "\n",
    "# print(top_10_female_names)\n",
    "\n",
    "estimates = pd.concat([estimate_age(name, 'F') for name in top_10_female_names.name], axis = 1)\n",
    "median_ages = estimates.T.sort_values('q50').reset_index(drop = True)\n",
    "print(median_ages)"
   ]
  }
 ],
 "metadata": {
  "kernelspec": {
   "display_name": "Python [Root]",
   "language": "python",
   "name": "Python [Root]"
  },
  "language_info": {
   "codemirror_mode": {
    "name": "ipython",
    "version": 3
   },
   "file_extension": ".py",
   "mimetype": "text/x-python",
   "name": "python",
   "nbconvert_exporter": "python",
   "pygments_lexer": "ipython3",
   "version": "3.5.2"
  }
 },
 "nbformat": 4,
 "nbformat_minor": 2
}
